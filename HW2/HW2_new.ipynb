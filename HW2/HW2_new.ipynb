{
  "nbformat": 4,
  "nbformat_minor": 0,
  "metadata": {
    "colab": {
      "name": "HW2_204249239_308402163.ipynb",
      "provenance": [],
      "collapsed_sections": [],
      "toc_visible": true,
      "include_colab_link": true
    },
    "kernelspec": {
      "name": "python3",
      "display_name": "Python 3"
    },
    "accelerator": "GPU"
  },
  "cells": [
    {
      "cell_type": "markdown",
      "metadata": {
        "id": "view-in-github",
        "colab_type": "text"
      },
      "source": [
        "<a href=\"https://colab.research.google.com/github/AfekIlayAdler/UNI-2020-DeepLearning/blob/master/HW2.ipynb\" target=\"_parent\"><img src=\"https://colab.research.google.com/assets/colab-badge.svg\" alt=\"Open In Colab\"/></a>"
      ]
    },
    {
      "cell_type": "markdown",
      "metadata": {
        "id": "Y7K1lIKisGq0",
        "colab_type": "text"
      },
      "source": [
        "# HW2\n",
        "### Or Wolkimir (308402163) and Afek Adler (204249239) \n",
        "This is our solution for applying 2 different architectures of LSTM and GRU for sequence2sequence task.\n",
        "All configurations can be changed in the **config** section. There is no reason to manipulate other code sections.\n",
        "\n",
        "For implementing different architectures we used pytorch build-in **nn.ModuleDict**.\n",
        "\n",
        "**For the ease of convience for the checker, we leave the code with default args that make the model run for short time (40 epochs, with uploading weights at each epoch). Should be around 90 Seconds.** if you wish to make it shorter you can decrease the number of epochs .\n",
        "\n",
        "The code Was written in this fashion in order to be **easily modified and extended** (more complicated scinerios) so maybe it appears to have some code overhead.\n",
        "\n",
        "We added our graphs (for ~40 epochs and detailed explanations in the attached pdf)."
      ]
    },
    {
      "cell_type": "code",
      "metadata": {
        "id": "Nikv0sDysAov",
        "colab_type": "code",
        "outputId": "2fc75eb4-8802-4fc5-dcfe-434f58011145",
        "colab": {
          "base_uri": "https://localhost:8080/",
          "height": 34
        }
      },
      "source": [
        "import numpy as np\n",
        "!pip install tensorboardcolab\n",
        "from tensorboardcolab import TensorBoardColab\n",
        "import torch\n",
        "from torchvision import datasets, transforms\n",
        "import helper\n",
        "from torch import nn, optim\n",
        "import torch.nn.functional as F\n",
        "import matplotlib.pyplot as plt\n",
        "import tensorflow as tf\n",
        "from tensorflow import summary\n",
        "import datetime\n",
        "import pandas as pd\n",
        "from collections import OrderedDict\n",
        "from os import mkdir\n",
        "from os.path import isdir\n",
        "from glob import glob\n",
        "from pathlib import Path\n",
        "import nltk\n",
        "from nltk import word_tokenize\n",
        "import re\n",
        "import pandas as pd    \n",
        "from torch.autograd import Variable\n",
        "from collections import Counter"
      ],
      "execution_count": 0,
      "outputs": [
        {
          "output_type": "stream",
          "text": [
            "Requirement already satisfied: tensorboardcolab in /usr/local/lib/python3.6/dist-packages (0.0.22)\n"
          ],
          "name": "stdout"
        }
      ]
    },
    {
      "cell_type": "markdown",
      "metadata": {
        "id": "qlJILpSMJa4U",
        "colab_type": "text"
      },
      "source": [
        "# 1.Mount\n"
      ]
    },
    {
      "cell_type": "code",
      "metadata": {
        "id": "BXKZpOIrkGgc",
        "colab_type": "code",
        "outputId": "b6ef91b9-4671-4a1f-8ceb-8e0ee9ec9260",
        "colab": {
          "base_uri": "https://localhost:8080/",
          "height": 34
        }
      },
      "source": [
        "from google.colab import drive\n",
        "drive.mount('/content/drive/')"
      ],
      "execution_count": 0,
      "outputs": [
        {
          "output_type": "stream",
          "text": [
            "Drive already mounted at /content/drive/; to attempt to forcibly remount, call drive.mount(\"/content/drive/\", force_remount=True).\n"
          ],
          "name": "stdout"
        }
      ]
    },
    {
      "cell_type": "markdown",
      "metadata": {
        "id": "u7_wvHByJpw2",
        "colab_type": "text"
      },
      "source": [
        "# 2.Default Config\n",
        "\n",
        "\n"
      ]
    },
    {
      "cell_type": "code",
      "metadata": {
        "id": "hfYOxpv8JpDn",
        "colab_type": "code",
        "colab": {}
      },
      "source": [
        "from pathlib import Path\n",
        "# IO\n",
        "ROOT_PATH =  Path('/content/drive/My Drive/university/projects/DL/HW2/ex2_204249239_308402163/')\n",
        "TRAIN_PATH =  ROOT_PATH/'PTB/ptb.train.txt'\n",
        "VALID_PATH =  ROOT_PATH/'PTB/ptb.valid.txt'\n",
        "TEST_PATH =  ROOT_PATH/'PTB/ptb.test.txt'"
      ],
      "execution_count": 0,
      "outputs": []
    },
    {
      "cell_type": "markdown",
      "metadata": {
        "id": "OLKZyjtfJhSy",
        "colab_type": "text"
      },
      "source": [
        "# 3. IO"
      ]
    },
    {
      "cell_type": "code",
      "metadata": {
        "id": "wbz0Qiyo0Q22",
        "colab_type": "code",
        "colab": {}
      },
      "source": [
        "with open(TRAIN_PATH, 'r') as train_loader:\n",
        "    train = train_loader.read()\n",
        "with open(VALID_PATH, 'r') as validation_loader:\n",
        "    validation = validation_loader.read()\n",
        "with open(TEST_PATH, 'r') as test_loader:\n",
        "    test = test_loader.read()\n",
        "  "
      ],
      "execution_count": 0,
      "outputs": []
    },
    {
      "cell_type": "markdown",
      "metadata": {
        "id": "dNw7B1OuDY1z",
        "colab_type": "text"
      },
      "source": [
        "# 4. Preprocessing"
      ]
    },
    {
      "cell_type": "code",
      "metadata": {
        "id": "fFf2IK0O18am",
        "colab_type": "code",
        "colab": {}
      },
      "source": [
        "def words_to_int(l, translator):\n",
        "  return   [translator[w] for w in l if w != \" \"]\n",
        "\n",
        "counts = Counter(train.split())\n",
        "words = sorted(counts, key=counts.get, reverse=True)\n",
        "vocab_to_int = {word: ii for ii, word in enumerate(words, 1)}\n",
        "int_to_vocab = {i: v for i,v in vocab_to_int.items()}\n",
        "train = np.array(words_to_int(train.split(), vocab_to_int))\n",
        "validation = np.array(words_to_int(validation.split(), vocab_to_int))\n",
        "test = np.array(words_to_int(test.split(), vocab_to_int))\n"
      ],
      "execution_count": 0,
      "outputs": []
    },
    {
      "cell_type": "markdown",
      "metadata": {
        "id": "vAR4o1dbup70",
        "colab_type": "text"
      },
      "source": [
        "## 4.3 get batches"
      ]
    },
    {
      "cell_type": "code",
      "metadata": {
        "id": "FQ6XaIovRH5I",
        "colab_type": "code",
        "colab": {}
      },
      "source": [
        "def get_batches(arr,batch_size = 20, seq_length = 20):\n",
        "    batch_size_total = batch_size * seq_length\n",
        "    n_batches = (len(arr)-1) // batch_size_total\n",
        "    x , y =  arr[:-1], arr[1:]\n",
        "    x = x[:n_batches * batch_size_total]\n",
        "    y = y[:n_batches * batch_size_total]\n",
        "    x = x.reshape((batch_size, -1))\n",
        "    y = y.reshape((batch_size, -1))\n",
        "    for n in range(0, x.shape[1], seq_length):\n",
        "      yield x[:, n:n + seq_length],y[:, n:n + seq_length]"
      ],
      "execution_count": 0,
      "outputs": []
    },
    {
      "cell_type": "markdown",
      "metadata": {
        "id": "oJp5M833tW-t",
        "colab_type": "text"
      },
      "source": [
        "# 5. Model\n"
      ]
    },
    {
      "cell_type": "code",
      "metadata": {
        "colab_type": "code",
        "id": "ItnuQdeAL6E0",
        "colab": {}
      },
      "source": [
        "class RNN(nn.Module):\n",
        "  def __init__(self,config):\n",
        "    super().__init__()\n",
        "    self.cell_type = config.cell_type\n",
        "    self.n_recurrent_layers = config.n_recurrent_layers\n",
        "    vocab_size, word_embedding_dim = 10000 ,config.word_embedding_dim\n",
        "    self.rnn_embedding_dim =  config.rnn_embedding_dim\n",
        "    self.dropout_rate= config.dropout_rate\n",
        "    self.embeddings = nn.Embedding(vocab_size, word_embedding_dim)\n",
        "    self.rnn = self.get_memory_cell_type(word_embedding_dim,self.rnn_embedding_dim,self.n_recurrent_layers)\n",
        "    self.fc = nn.Linear(self.rnn_embedding_dim, vocab_size) \n",
        "    self.regulizer = self.get_regulizer(config.apply_dropout,self.rnn_embedding_dim)\n",
        "\n",
        "\n",
        "  def forward(self, x, hidden):\n",
        "    embeds = self.embeddings(x)\n",
        "    r_output, hidden = self.rnn(embeds, hidden)\n",
        "    out = self.regulizer(r_output) \n",
        "    out = out.contiguous().view(-1, self.rnn_embedding_dim)\n",
        "    out = self.fc(out)\n",
        "    return out, hidden\n",
        "\n",
        "  def get_regulizer(self,regulizer,hidden_layer_size):\n",
        "    regulizer = 'dropout' if regulizer == True else 'no_regulizer'\n",
        "    regulizers = nn.ModuleDict([\n",
        "                ['dropout', nn.Dropout(self.dropout_rate)],\n",
        "                ['no_regulizer', nn.Identity(hidden_layer_size)]])\n",
        "    return regulizers[regulizer]\n",
        "\n",
        "  def get_memory_cell_type(self,in_dim, out_dim,num_layers):\n",
        "    memory_cells = nn.ModuleDict([\n",
        "                ['GRU', nn.GRU(in_dim, out_dim, self.n_recurrent_layers,batch_first=True,dropout=self.dropout_rate)],\n",
        "                ['LSTM', nn.LSTM(in_dim, out_dim, self.n_recurrent_layers,batch_first=True,dropout=self.dropout_rate)]])\n",
        "    return memory_cells[self.cell_type]\n",
        "\n",
        "  def init_hidden(self, batch_size, device):\n",
        "    weight = next(self.parameters()).data # understand what is it\n",
        "    if self.cell_type =='GRU':\n",
        "      return weight.new(self.n_recurrent_layers, batch_size, self.rnn_embedding_dim).zero_().to(device)\n",
        "    else: #LSTM\n",
        "      return (weight.new(self.n_recurrent_layers, batch_size, self.rnn_embedding_dim).zero_().to(device),\n",
        "          weight.new(self.n_recurrent_layers, batch_size, self.rnn_embedding_dim).zero_().to(device))\n"
      ],
      "execution_count": 0,
      "outputs": []
    },
    {
      "cell_type": "markdown",
      "metadata": {
        "id": "6hCdY13_q0Al",
        "colab_type": "text"
      },
      "source": [
        "# 4. Trainer"
      ]
    },
    {
      "cell_type": "code",
      "metadata": {
        "id": "MDnoTlxf5C9p",
        "colab_type": "code",
        "colab": {}
      },
      "source": [
        "class Trainer:\n",
        "  def __init__(self,config):\n",
        "    self.model = RNN(config)\n",
        "    self.model_name = config.exp_name\n",
        "    self.seed = config.seed\n",
        "    self.lr = config.lr\n",
        "    self.epochs = config.epochs\n",
        "    self.save_model = config.save_model\n",
        "    self.batch_size = config.batch_size\n",
        "    self.upload_model = config.upload_model\n",
        "    self.model_weights_path = config.model_weights_path\n",
        "    self.sequence_len = config.sequence_len\n",
        "    self.weight_decay = config.weight_decay\n",
        "    self.optimizer =  optim.SGD(self.model.parameters(), lr = self.lr, momentum=0.92, nesterov=False, weight_decay= self.weight_decay)\n",
        "    torch.manual_seed(self.seed)\n",
        "    self.criterion = nn.CrossEntropyLoss()\n",
        "    self.results = {}\n",
        "    self.device = torch.device(\"cuda:0\" if torch.cuda.is_available() else \"cpu\")\n",
        "    self.clip = 5\n",
        "    if torch.cuda.is_available():\n",
        "      self.model.to(self.device)\n",
        "\n",
        "  def get_results(self):\n",
        "    return pd.DataFrame.from_dict(self.results)\n",
        "\n",
        "  def record(self,epoch,**kwargs):\n",
        "    epoch = \"{:02d}\".format(epoch)\n",
        "    temp = f\"| epoch   # {epoch} :\"\n",
        "    for key, value in kwargs.items():\n",
        "      key = f\"{self.model_name}_{key}\"\n",
        "      if not self.results.get(key):\n",
        "        self.results[key] =[]\n",
        "      self.results[key].append(value)\n",
        "      val = '{:.2f}'.format(np.round(value,2))\n",
        "      temp += f\"{key} : {val}      |       \"\n",
        "      \n",
        "    print(temp)\n",
        "\n",
        "  def lr_scheduler(self,epoch):\n",
        "    if 25 > epoch >= 4:\n",
        "      self.lr *= 0.9\n",
        "    if epoch ==25:\n",
        "      self.lr *= 0.1\n",
        "    if epoch > 25:\n",
        "      self.lr *= 0.7      \n",
        "\n",
        "  def fit(self,train,validation,test, exp_name): \n",
        "    train_accu, test_accu = [],[]\n",
        "    for epoch in range(1,self.epochs+1):\n",
        "      self.lr_scheduler(epoch)\n",
        "      weights_path = Path(f\"{self.model_weights_path}/{self.model_name}_{epoch}.pth\")\n",
        "      if weights_path.exists() and self.upload_model:\n",
        "        epoch_train_loss = self.load_checkpoint(weights_path,epoch)\n",
        "      else:\n",
        "        epoch_train_loss = self.run_epoch(train)\n",
        "      epoch_test_loss = self.test(validation)\n",
        "      self.record(epoch,train_loss = epoch_train_loss, validation_loss = epoch_test_loss)\n",
        "      self.save_checkpoint(weights_path,epoch_train_loss)\n",
        "    test_loss = self.test(test)\n",
        "    padding = '*'*40\n",
        "    print(f\"{padding} TEST LOSS : {test_loss} {padding}\")\n",
        "\n",
        "  def get_hidden_no_grad(self,h):\n",
        "      if self.model.cell_type == 'GRU':\n",
        "        h = h.data\n",
        "      else:\n",
        "        h = tuple([each.data for each in h])\n",
        "      return h\n",
        "\n",
        "\n",
        "  def run_epoch(self,data):\n",
        "    train_loss , counter = 0 , 0\n",
        "    self.model.train()\n",
        "    h = self.model.init_hidden(self.batch_size,self.device)\n",
        "    for i, (x, y) in enumerate(get_batches(data, self.batch_size,self.sequence_len)):\n",
        "      inputs, targets = torch.from_numpy(x), torch.from_numpy(y)\n",
        "      inputs = inputs.to(self.device)\n",
        "      targets = targets.to(self.device, dtype=torch.int64)\n",
        "      h = self.get_hidden_no_grad(h)\n",
        "      self.optimizer.zero_grad()\n",
        "      output, h = self.model(inputs, h)\n",
        "      loss = self.criterion(output, targets.reshape(-1))\n",
        "      loss.backward()\n",
        "      nn.utils.clip_grad_norm_(self.model.parameters(), self.clip)\n",
        "      self.optimizer.step()\n",
        "      train_loss += loss.item()\n",
        "      counter += 1\n",
        "    perplexity = np.exp(train_loss/counter)\n",
        "    return perplexity\n",
        "\n",
        "  def test(self,data):\n",
        "    self.model.eval()\n",
        "    test_loss, counter = 0, 0\n",
        "    with torch.no_grad():\n",
        "      h = self.model.init_hidden(self.batch_size,self.device)\n",
        "      for x,y in get_batches(data, self.batch_size,self.sequence_len):\n",
        "        inputs, targets = torch.from_numpy(x), torch.from_numpy(y)\n",
        "        inputs = inputs.to(self.device)\n",
        "        targets = targets.to(self.device, dtype=torch.int64)\n",
        "        h = self.get_hidden_no_grad(h)\n",
        "        output, h = self.model(inputs, h)\n",
        "        loss = self.criterion(output, targets.reshape(-1).long())\n",
        "        test_loss += loss.item()\n",
        "        counter += 1\n",
        "      perplexity = np.exp(test_loss/counter)\n",
        "      return perplexity\n",
        "    \n",
        "\n",
        "  def save_checkpoint(self,weights_path,loss):\n",
        "    if (not weights_path.exists()) and self.save_model: \n",
        "      torch.save({'model_state_dict': self.model.state_dict(),\n",
        "              'optimizer_state_dict': self.optimizer.state_dict(),'loss': loss}, weights_path)\n",
        "      \n",
        "  def load_checkpoint(self,weights_path,epoch):\n",
        "    checkpoint = torch.load(weights_path)\n",
        "    self.model.load_state_dict(checkpoint['model_state_dict'])\n",
        "    self.optimizer.load_state_dict(checkpoint['optimizer_state_dict'])\n",
        "    self.model.to(self.device)\n",
        "    loss = checkpoint['loss']\n",
        "    print(f\"Uploaded weights succesfuly at epoch number {epoch}\")\n",
        "    return loss"
      ],
      "execution_count": 0,
      "outputs": []
    },
    {
      "cell_type": "markdown",
      "metadata": {
        "id": "onXkQpn5q6IV",
        "colab_type": "text"
      },
      "source": [
        "# 5. Utils\n",
        "Utility functions for the code"
      ]
    },
    {
      "cell_type": "code",
      "metadata": {
        "id": "rL71fO5LOKbQ",
        "colab_type": "code",
        "colab": {}
      },
      "source": [
        "class Config:  \n",
        "  def __init__(self, **kwargs):\n",
        "    for key, value in kwargs.items():\n",
        "      setattr(self, key, value)\n",
        "\n",
        "  def add_attributes(self,**kwargs):\n",
        "    for key, value in kwargs.items():\n",
        "      setattr(self, key, value)\n",
        "\n",
        "def create_directories(l):\n",
        "  for directory_path in l:\n",
        "    if not (isdir(directory_path)):\n",
        "      mkdir(directory_path)"
      ],
      "execution_count": 0,
      "outputs": []
    },
    {
      "cell_type": "markdown",
      "metadata": {
        "id": "nr7RLjwsrGOT",
        "colab_type": "text"
      },
      "source": [
        "# 5. experiments Config "
      ]
    },
    {
      "cell_type": "code",
      "metadata": {
        "id": "cayKUt5cjTq3",
        "colab_type": "code",
        "colab": {}
      },
      "source": [
        "# NEURAL NET\n",
        "MODEL_WEIGHTS_DIR = 'model_weights'\n",
        "GRAPHS_FOLDER_NAME = 'graphs'\n",
        "model_weights_dir = ROOT_PATH/MODEL_WEIGHTS_DIR \n",
        "graphs_dir = ROOT_PATH/GRAPHS_FOLDER_NAME \n",
        "SAVE_FIGS = True\n",
        "\n",
        "def get_base_config():\n",
        "  ####################################################################\n",
        "  # model consistency options\n",
        "  SAVE_TO_CHECKPOINTS = True # if ture, saves model.name_epcoch file into the weights folder\n",
        "  LOAD_CHECKPOINTS = False # # if ture, every epoch tries to load pretrained weights\n",
        "  ####################################################################\n",
        "  # if needed, can be modified to upload the 'best model'\n",
        "\n",
        "  return Config(\n",
        "          seed = 42, lr = 0.2,epochs = 40,sequence_len = 20,\n",
        "          batch_size = 20, weight_decay = 0.00004,dropout_rate = 0.25,\n",
        "          n_recurrent_layers = 2, word_embedding_dim =200, rnn_embedding_dim = 200,\n",
        "          save_model = SAVE_TO_CHECKPOINTS,\n",
        "          upload_model = LOAD_CHECKPOINTS,\n",
        "          model_weights_path = model_weights_dir)\n",
        "\n",
        "EXPERIMENTS =  {'lstm_with_dropout':('LSTM',True),'gru_with_dropout':('GRU',True), 'lstm_no_dropout': ('LSTM',False),'gru_no_dropout':('GRU',False)}"
      ],
      "execution_count": 0,
      "outputs": []
    },
    {
      "cell_type": "markdown",
      "metadata": {
        "id": "qfnNkr9YpB5J",
        "colab_type": "text"
      },
      "source": [
        "# 7. Run experiments"
      ]
    },
    {
      "cell_type": "code",
      "metadata": {
        "id": "07PKWDw5CHZz",
        "colab_type": "code",
        "outputId": "81913f16-f1f3-4ac0-af10-d1646e328c1b",
        "colab": {
          "base_uri": "https://localhost:8080/",
          "height": 1000
        }
      },
      "source": [
        "def run_exp(experiments):\n",
        "  # create weights directory\n",
        "  create_directories([graphs_dir,model_weights_dir])\n",
        "  results = []\n",
        "  for exp_name,(cell_type , apply_dropout) in experiments.items():\n",
        "    print(f\"{'#'*118} \\n running {exp_name} experiment\\n{'#'*118}\") \n",
        "    config.add_attributes(exp_name = exp_name, apply_dropout = apply_dropout, cell_type = cell_type)\n",
        "    trainer = Trainer(config)\n",
        "    trainer.fit(train,validation,test,exp_name)\n",
        "    results.append(trainer.get_results())\n",
        "  return results\n",
        "\n",
        "config = get_base_config()\n",
        "results = run_exp(EXPERIMENTS)"
      ],
      "execution_count": 0,
      "outputs": [
        {
          "output_type": "stream",
          "text": [
            "###################################################################################################################### \n",
            " running lstm_with_dropout experiment\n",
            "######################################################################################################################\n",
            "| epoch   # 01 :lstm_with_dropout_train_loss : 460.18      |       lstm_with_dropout_validation_loss : 301.36      |       \n",
            "| epoch   # 02 :lstm_with_dropout_train_loss : 277.01      |       lstm_with_dropout_validation_loss : 242.51      |       \n",
            "| epoch   # 03 :lstm_with_dropout_train_loss : 231.69      |       lstm_with_dropout_validation_loss : 216.34      |       \n",
            "| epoch   # 04 :lstm_with_dropout_train_loss : 207.63      |       lstm_with_dropout_validation_loss : 199.33      |       \n",
            "| epoch   # 05 :lstm_with_dropout_train_loss : 192.20      |       lstm_with_dropout_validation_loss : 191.26      |       \n",
            "| epoch   # 06 :lstm_with_dropout_train_loss : 180.54      |       lstm_with_dropout_validation_loss : 182.84      |       \n",
            "| epoch   # 07 :lstm_with_dropout_train_loss : 170.43      |       lstm_with_dropout_validation_loss : 176.88      |       \n",
            "| epoch   # 08 :lstm_with_dropout_train_loss : 161.01      |       lstm_with_dropout_validation_loss : 170.26      |       \n",
            "| epoch   # 09 :lstm_with_dropout_train_loss : 152.57      |       lstm_with_dropout_validation_loss : 164.12      |       \n",
            "| epoch   # 10 :lstm_with_dropout_train_loss : 145.18      |       lstm_with_dropout_validation_loss : 158.18      |       \n",
            "| epoch   # 11 :lstm_with_dropout_train_loss : 139.29      |       lstm_with_dropout_validation_loss : 154.65      |       \n",
            "| epoch   # 12 :lstm_with_dropout_train_loss : 134.34      |       lstm_with_dropout_validation_loss : 155.08      |       \n",
            "| epoch   # 13 :lstm_with_dropout_train_loss : 130.55      |       lstm_with_dropout_validation_loss : 150.44      |       \n",
            "| epoch   # 14 :lstm_with_dropout_train_loss : 127.41      |       lstm_with_dropout_validation_loss : 149.60      |       \n",
            "| epoch   # 15 :lstm_with_dropout_train_loss : 124.65      |       lstm_with_dropout_validation_loss : 146.37      |       \n",
            "| epoch   # 16 :lstm_with_dropout_train_loss : 122.26      |       lstm_with_dropout_validation_loss : 145.01      |       \n",
            "| epoch   # 17 :lstm_with_dropout_train_loss : 120.38      |       lstm_with_dropout_validation_loss : 144.87      |       \n",
            "| epoch   # 18 :lstm_with_dropout_train_loss : 118.71      |       lstm_with_dropout_validation_loss : 143.80      |       \n",
            "| epoch   # 19 :lstm_with_dropout_train_loss : 117.15      |       lstm_with_dropout_validation_loss : 143.15      |       \n",
            "| epoch   # 20 :lstm_with_dropout_train_loss : 115.71      |       lstm_with_dropout_validation_loss : 142.96      |       \n",
            "| epoch   # 21 :lstm_with_dropout_train_loss : 114.62      |       lstm_with_dropout_validation_loss : 143.53      |       \n",
            "| epoch   # 22 :lstm_with_dropout_train_loss : 113.49      |       lstm_with_dropout_validation_loss : 141.57      |       \n",
            "| epoch   # 23 :lstm_with_dropout_train_loss : 112.41      |       lstm_with_dropout_validation_loss : 141.86      |       \n",
            "| epoch   # 24 :lstm_with_dropout_train_loss : 111.52      |       lstm_with_dropout_validation_loss : 140.40      |       \n",
            "| epoch   # 25 :lstm_with_dropout_train_loss : 110.85      |       lstm_with_dropout_validation_loss : 141.43      |       \n",
            "| epoch   # 26 :lstm_with_dropout_train_loss : 110.00      |       lstm_with_dropout_validation_loss : 141.16      |       \n",
            "| epoch   # 27 :lstm_with_dropout_train_loss : 109.32      |       lstm_with_dropout_validation_loss : 140.32      |       \n",
            "| epoch   # 28 :lstm_with_dropout_train_loss : 108.84      |       lstm_with_dropout_validation_loss : 140.79      |       \n",
            "| epoch   # 29 :lstm_with_dropout_train_loss : 108.25      |       lstm_with_dropout_validation_loss : 138.68      |       \n",
            "| epoch   # 30 :lstm_with_dropout_train_loss : 107.84      |       lstm_with_dropout_validation_loss : 139.52      |       \n",
            "| epoch   # 31 :lstm_with_dropout_train_loss : 107.44      |       lstm_with_dropout_validation_loss : 139.52      |       \n",
            "| epoch   # 32 :lstm_with_dropout_train_loss : 106.88      |       lstm_with_dropout_validation_loss : 138.73      |       \n",
            "| epoch   # 33 :lstm_with_dropout_train_loss : 106.59      |       lstm_with_dropout_validation_loss : 140.56      |       \n",
            "| epoch   # 34 :lstm_with_dropout_train_loss : 106.05      |       lstm_with_dropout_validation_loss : 138.90      |       \n",
            "| epoch   # 35 :lstm_with_dropout_train_loss : 105.90      |       lstm_with_dropout_validation_loss : 138.59      |       \n",
            "| epoch   # 36 :lstm_with_dropout_train_loss : 105.46      |       lstm_with_dropout_validation_loss : 137.35      |       \n",
            "| epoch   # 37 :lstm_with_dropout_train_loss : 105.11      |       lstm_with_dropout_validation_loss : 139.71      |       \n",
            "| epoch   # 38 :lstm_with_dropout_train_loss : 104.58      |       lstm_with_dropout_validation_loss : 138.00      |       \n",
            "| epoch   # 39 :lstm_with_dropout_train_loss : 104.48      |       lstm_with_dropout_validation_loss : 140.05      |       \n",
            "| epoch   # 40 :lstm_with_dropout_train_loss : 104.23      |       lstm_with_dropout_validation_loss : 137.99      |       \n",
            "**************************************** TEST LOSS : 132.34541485708493 ****************************************\n",
            "###################################################################################################################### \n",
            " running gru_with_dropout experiment\n",
            "######################################################################################################################\n",
            "| epoch   # 01 :gru_with_dropout_train_loss : 385.23      |       gru_with_dropout_validation_loss : 263.76      |       \n",
            "| epoch   # 02 :gru_with_dropout_train_loss : 246.24      |       gru_with_dropout_validation_loss : 217.72      |       \n",
            "| epoch   # 03 :gru_with_dropout_train_loss : 208.50      |       gru_with_dropout_validation_loss : 199.92      |       \n",
            "| epoch   # 04 :gru_with_dropout_train_loss : 186.74      |       gru_with_dropout_validation_loss : 187.57      |       \n",
            "| epoch   # 05 :gru_with_dropout_train_loss : 171.87      |       gru_with_dropout_validation_loss : 178.73      |       \n",
            "| epoch   # 06 :gru_with_dropout_train_loss : 159.71      |       gru_with_dropout_validation_loss : 172.33      |       \n",
            "| epoch   # 07 :gru_with_dropout_train_loss : 149.70      |       gru_with_dropout_validation_loss : 165.27      |       \n",
            "| epoch   # 08 :gru_with_dropout_train_loss : 140.65      |       gru_with_dropout_validation_loss : 159.23      |       \n",
            "| epoch   # 09 :gru_with_dropout_train_loss : 133.01      |       gru_with_dropout_validation_loss : 151.89      |       \n",
            "| epoch   # 10 :gru_with_dropout_train_loss : 126.46      |       gru_with_dropout_validation_loss : 150.22      |       \n",
            "| epoch   # 11 :gru_with_dropout_train_loss : 121.28      |       gru_with_dropout_validation_loss : 147.65      |       \n",
            "| epoch   # 12 :gru_with_dropout_train_loss : 117.21      |       gru_with_dropout_validation_loss : 145.14      |       \n",
            "| epoch   # 13 :gru_with_dropout_train_loss : 113.58      |       gru_with_dropout_validation_loss : 141.56      |       \n",
            "| epoch   # 14 :gru_with_dropout_train_loss : 110.88      |       gru_with_dropout_validation_loss : 141.33      |       \n",
            "| epoch   # 15 :gru_with_dropout_train_loss : 108.68      |       gru_with_dropout_validation_loss : 140.29      |       \n",
            "| epoch   # 16 :gru_with_dropout_train_loss : 106.73      |       gru_with_dropout_validation_loss : 140.28      |       \n",
            "| epoch   # 17 :gru_with_dropout_train_loss : 105.11      |       gru_with_dropout_validation_loss : 138.96      |       \n",
            "| epoch   # 18 :gru_with_dropout_train_loss : 103.79      |       gru_with_dropout_validation_loss : 140.11      |       \n",
            "| epoch   # 19 :gru_with_dropout_train_loss : 102.48      |       gru_with_dropout_validation_loss : 138.99      |       \n",
            "| epoch   # 20 :gru_with_dropout_train_loss : 101.66      |       gru_with_dropout_validation_loss : 139.46      |       \n",
            "| epoch   # 21 :gru_with_dropout_train_loss : 100.56      |       gru_with_dropout_validation_loss : 140.39      |       \n",
            "| epoch   # 22 :gru_with_dropout_train_loss : 99.86      |       gru_with_dropout_validation_loss : 138.63      |       \n",
            "| epoch   # 23 :gru_with_dropout_train_loss : 99.02      |       gru_with_dropout_validation_loss : 138.94      |       \n",
            "| epoch   # 24 :gru_with_dropout_train_loss : 98.34      |       gru_with_dropout_validation_loss : 138.26      |       \n",
            "| epoch   # 25 :gru_with_dropout_train_loss : 97.95      |       gru_with_dropout_validation_loss : 138.28      |       \n",
            "| epoch   # 26 :gru_with_dropout_train_loss : 97.42      |       gru_with_dropout_validation_loss : 139.39      |       \n",
            "| epoch   # 27 :gru_with_dropout_train_loss : 96.77      |       gru_with_dropout_validation_loss : 138.99      |       \n",
            "| epoch   # 28 :gru_with_dropout_train_loss : 96.43      |       gru_with_dropout_validation_loss : 140.25      |       \n",
            "| epoch   # 29 :gru_with_dropout_train_loss : 96.04      |       gru_with_dropout_validation_loss : 138.33      |       \n",
            "| epoch   # 30 :gru_with_dropout_train_loss : 95.71      |       gru_with_dropout_validation_loss : 138.63      |       \n",
            "| epoch   # 31 :gru_with_dropout_train_loss : 95.38      |       gru_with_dropout_validation_loss : 139.38      |       \n",
            "| epoch   # 32 :gru_with_dropout_train_loss : 95.13      |       gru_with_dropout_validation_loss : 139.45      |       \n",
            "| epoch   # 33 :gru_with_dropout_train_loss : 94.79      |       gru_with_dropout_validation_loss : 137.69      |       \n",
            "| epoch   # 34 :gru_with_dropout_train_loss : 94.51      |       gru_with_dropout_validation_loss : 137.24      |       \n",
            "| epoch   # 35 :gru_with_dropout_train_loss : 94.37      |       gru_with_dropout_validation_loss : 140.14      |       \n",
            "| epoch   # 36 :gru_with_dropout_train_loss : 93.99      |       gru_with_dropout_validation_loss : 140.06      |       \n",
            "| epoch   # 37 :gru_with_dropout_train_loss : 93.67      |       gru_with_dropout_validation_loss : 138.68      |       \n",
            "| epoch   # 38 :gru_with_dropout_train_loss : 93.68      |       gru_with_dropout_validation_loss : 140.00      |       \n",
            "| epoch   # 39 :gru_with_dropout_train_loss : 93.27      |       gru_with_dropout_validation_loss : 138.33      |       \n",
            "| epoch   # 40 :gru_with_dropout_train_loss : 93.11      |       gru_with_dropout_validation_loss : 138.75      |       \n",
            "**************************************** TEST LOSS : 134.36786195641398 ****************************************\n",
            "###################################################################################################################### \n",
            " running lstm_no_dropout experiment\n",
            "######################################################################################################################\n",
            "| epoch   # 01 :lstm_no_dropout_train_loss : 436.06      |       lstm_no_dropout_validation_loss : 297.01      |       \n",
            "| epoch   # 02 :lstm_no_dropout_train_loss : 253.79      |       lstm_no_dropout_validation_loss : 234.64      |       \n",
            "| epoch   # 03 :lstm_no_dropout_train_loss : 208.09      |       lstm_no_dropout_validation_loss : 210.24      |       \n",
            "| epoch   # 04 :lstm_no_dropout_train_loss : 184.17      |       lstm_no_dropout_validation_loss : 196.85      |       \n",
            "| epoch   # 05 :lstm_no_dropout_train_loss : 168.53      |       lstm_no_dropout_validation_loss : 188.34      |       \n",
            "| epoch   # 06 :lstm_no_dropout_train_loss : 156.81      |       lstm_no_dropout_validation_loss : 182.68      |       \n",
            "| epoch   # 07 :lstm_no_dropout_train_loss : 147.16      |       lstm_no_dropout_validation_loss : 176.52      |       \n",
            "| epoch   # 08 :lstm_no_dropout_train_loss : 138.49      |       lstm_no_dropout_validation_loss : 170.70      |       \n",
            "| epoch   # 09 :lstm_no_dropout_train_loss : 130.51      |       lstm_no_dropout_validation_loss : 166.55      |       \n",
            "| epoch   # 10 :lstm_no_dropout_train_loss : 123.68      |       lstm_no_dropout_validation_loss : 161.67      |       \n",
            "| epoch   # 11 :lstm_no_dropout_train_loss : 118.16      |       lstm_no_dropout_validation_loss : 158.81      |       \n",
            "| epoch   # 12 :lstm_no_dropout_train_loss : 113.68      |       lstm_no_dropout_validation_loss : 154.57      |       \n",
            "| epoch   # 13 :lstm_no_dropout_train_loss : 110.05      |       lstm_no_dropout_validation_loss : 151.07      |       \n",
            "| epoch   # 14 :lstm_no_dropout_train_loss : 107.03      |       lstm_no_dropout_validation_loss : 149.58      |       \n",
            "| epoch   # 15 :lstm_no_dropout_train_loss : 104.49      |       lstm_no_dropout_validation_loss : 149.70      |       \n",
            "| epoch   # 16 :lstm_no_dropout_train_loss : 102.22      |       lstm_no_dropout_validation_loss : 148.59      |       \n",
            "| epoch   # 17 :lstm_no_dropout_train_loss : 100.35      |       lstm_no_dropout_validation_loss : 147.15      |       \n",
            "| epoch   # 18 :lstm_no_dropout_train_loss : 98.63      |       lstm_no_dropout_validation_loss : 145.14      |       \n",
            "| epoch   # 19 :lstm_no_dropout_train_loss : 97.30      |       lstm_no_dropout_validation_loss : 147.30      |       \n",
            "| epoch   # 20 :lstm_no_dropout_train_loss : 96.12      |       lstm_no_dropout_validation_loss : 146.39      |       \n",
            "| epoch   # 21 :lstm_no_dropout_train_loss : 94.81      |       lstm_no_dropout_validation_loss : 146.76      |       \n",
            "| epoch   # 22 :lstm_no_dropout_train_loss : 93.80      |       lstm_no_dropout_validation_loss : 144.91      |       \n",
            "| epoch   # 23 :lstm_no_dropout_train_loss : 92.92      |       lstm_no_dropout_validation_loss : 146.03      |       \n",
            "| epoch   # 24 :lstm_no_dropout_train_loss : 92.19      |       lstm_no_dropout_validation_loss : 145.87      |       \n",
            "| epoch   # 25 :lstm_no_dropout_train_loss : 91.31      |       lstm_no_dropout_validation_loss : 145.84      |       \n",
            "| epoch   # 26 :lstm_no_dropout_train_loss : 90.69      |       lstm_no_dropout_validation_loss : 145.54      |       \n",
            "| epoch   # 27 :lstm_no_dropout_train_loss : 90.06      |       lstm_no_dropout_validation_loss : 145.42      |       \n",
            "| epoch   # 28 :lstm_no_dropout_train_loss : 89.61      |       lstm_no_dropout_validation_loss : 144.96      |       \n",
            "| epoch   # 29 :lstm_no_dropout_train_loss : 89.01      |       lstm_no_dropout_validation_loss : 143.90      |       \n",
            "| epoch   # 30 :lstm_no_dropout_train_loss : 88.47      |       lstm_no_dropout_validation_loss : 142.64      |       \n",
            "| epoch   # 31 :lstm_no_dropout_train_loss : 87.97      |       lstm_no_dropout_validation_loss : 144.61      |       \n",
            "| epoch   # 32 :lstm_no_dropout_train_loss : 87.56      |       lstm_no_dropout_validation_loss : 144.91      |       \n",
            "| epoch   # 33 :lstm_no_dropout_train_loss : 87.22      |       lstm_no_dropout_validation_loss : 144.69      |       \n",
            "| epoch   # 34 :lstm_no_dropout_train_loss : 86.82      |       lstm_no_dropout_validation_loss : 142.32      |       \n",
            "| epoch   # 35 :lstm_no_dropout_train_loss : 86.60      |       lstm_no_dropout_validation_loss : 143.97      |       \n",
            "| epoch   # 36 :lstm_no_dropout_train_loss : 86.20      |       lstm_no_dropout_validation_loss : 144.24      |       \n",
            "| epoch   # 37 :lstm_no_dropout_train_loss : 85.81      |       lstm_no_dropout_validation_loss : 142.83      |       \n",
            "| epoch   # 38 :lstm_no_dropout_train_loss : 85.50      |       lstm_no_dropout_validation_loss : 142.62      |       \n",
            "| epoch   # 39 :lstm_no_dropout_train_loss : 85.17      |       lstm_no_dropout_validation_loss : 142.27      |       \n",
            "| epoch   # 40 :lstm_no_dropout_train_loss : 84.98      |       lstm_no_dropout_validation_loss : 142.01      |       \n",
            "**************************************** TEST LOSS : 136.6343901586139 ****************************************\n",
            "###################################################################################################################### \n",
            " running gru_no_dropout experiment\n",
            "######################################################################################################################\n",
            "| epoch   # 01 :gru_no_dropout_train_loss : 353.23      |       gru_no_dropout_validation_loss : 250.58      |       \n",
            "| epoch   # 02 :gru_no_dropout_train_loss : 215.44      |       gru_no_dropout_validation_loss : 210.51      |       \n",
            "| epoch   # 03 :gru_no_dropout_train_loss : 178.81      |       gru_no_dropout_validation_loss : 193.93      |       \n",
            "| epoch   # 04 :gru_no_dropout_train_loss : 157.80      |       gru_no_dropout_validation_loss : 183.11      |       \n",
            "| epoch   # 05 :gru_no_dropout_train_loss : 143.52      |       gru_no_dropout_validation_loss : 176.69      |       \n",
            "| epoch   # 06 :gru_no_dropout_train_loss : 132.35      |       gru_no_dropout_validation_loss : 170.73      |       \n",
            "| epoch   # 07 :gru_no_dropout_train_loss : 123.04      |       gru_no_dropout_validation_loss : 163.49      |       \n",
            "| epoch   # 08 :gru_no_dropout_train_loss : 114.79      |       gru_no_dropout_validation_loss : 158.84      |       \n",
            "| epoch   # 09 :gru_no_dropout_train_loss : 107.83      |       gru_no_dropout_validation_loss : 154.69      |       \n",
            "| epoch   # 10 :gru_no_dropout_train_loss : 101.81      |       gru_no_dropout_validation_loss : 150.29      |       \n",
            "| epoch   # 11 :gru_no_dropout_train_loss : 97.09      |       gru_no_dropout_validation_loss : 148.03      |       \n",
            "| epoch   # 12 :gru_no_dropout_train_loss : 93.33      |       gru_no_dropout_validation_loss : 146.38      |       \n",
            "| epoch   # 13 :gru_no_dropout_train_loss : 90.17      |       gru_no_dropout_validation_loss : 143.78      |       \n",
            "| epoch   # 14 :gru_no_dropout_train_loss : 87.64      |       gru_no_dropout_validation_loss : 145.61      |       \n",
            "| epoch   # 15 :gru_no_dropout_train_loss : 85.60      |       gru_no_dropout_validation_loss : 144.14      |       \n",
            "| epoch   # 16 :gru_no_dropout_train_loss : 83.78      |       gru_no_dropout_validation_loss : 144.33      |       \n",
            "| epoch   # 17 :gru_no_dropout_train_loss : 82.25      |       gru_no_dropout_validation_loss : 144.10      |       \n",
            "| epoch   # 18 :gru_no_dropout_train_loss : 80.95      |       gru_no_dropout_validation_loss : 145.37      |       \n",
            "| epoch   # 19 :gru_no_dropout_train_loss : 79.83      |       gru_no_dropout_validation_loss : 146.61      |       \n",
            "| epoch   # 20 :gru_no_dropout_train_loss : 78.83      |       gru_no_dropout_validation_loss : 146.65      |       \n",
            "| epoch   # 21 :gru_no_dropout_train_loss : 78.00      |       gru_no_dropout_validation_loss : 144.90      |       \n",
            "| epoch   # 22 :gru_no_dropout_train_loss : 77.17      |       gru_no_dropout_validation_loss : 145.86      |       \n",
            "| epoch   # 23 :gru_no_dropout_train_loss : 76.46      |       gru_no_dropout_validation_loss : 145.59      |       \n",
            "| epoch   # 24 :gru_no_dropout_train_loss : 75.86      |       gru_no_dropout_validation_loss : 146.32      |       \n",
            "| epoch   # 25 :gru_no_dropout_train_loss : 75.43      |       gru_no_dropout_validation_loss : 146.57      |       \n",
            "| epoch   # 26 :gru_no_dropout_train_loss : 74.90      |       gru_no_dropout_validation_loss : 147.54      |       \n",
            "| epoch   # 27 :gru_no_dropout_train_loss : 74.44      |       gru_no_dropout_validation_loss : 146.70      |       \n",
            "| epoch   # 28 :gru_no_dropout_train_loss : 74.00      |       gru_no_dropout_validation_loss : 146.33      |       \n",
            "| epoch   # 29 :gru_no_dropout_train_loss : 73.71      |       gru_no_dropout_validation_loss : 148.10      |       \n",
            "| epoch   # 30 :gru_no_dropout_train_loss : 73.28      |       gru_no_dropout_validation_loss : 147.29      |       \n",
            "| epoch   # 31 :gru_no_dropout_train_loss : 72.94      |       gru_no_dropout_validation_loss : 146.55      |       \n",
            "| epoch   # 32 :gru_no_dropout_train_loss : 72.60      |       gru_no_dropout_validation_loss : 146.72      |       \n",
            "| epoch   # 33 :gru_no_dropout_train_loss : 72.41      |       gru_no_dropout_validation_loss : 149.29      |       \n",
            "| epoch   # 34 :gru_no_dropout_train_loss : 72.08      |       gru_no_dropout_validation_loss : 147.45      |       \n",
            "| epoch   # 35 :gru_no_dropout_train_loss : 71.89      |       gru_no_dropout_validation_loss : 149.49      |       \n",
            "| epoch   # 36 :gru_no_dropout_train_loss : 71.63      |       gru_no_dropout_validation_loss : 147.88      |       \n",
            "| epoch   # 37 :gru_no_dropout_train_loss : 71.41      |       gru_no_dropout_validation_loss : 148.57      |       \n",
            "| epoch   # 38 :gru_no_dropout_train_loss : 71.19      |       gru_no_dropout_validation_loss : 148.06      |       \n",
            "| epoch   # 39 :gru_no_dropout_train_loss : 71.09      |       gru_no_dropout_validation_loss : 148.48      |       \n",
            "| epoch   # 40 :gru_no_dropout_train_loss : 70.90      |       gru_no_dropout_validation_loss : 148.86      |       \n",
            "**************************************** TEST LOSS : 144.05710885103483 ****************************************\n"
          ],
          "name": "stdout"
        }
      ]
    },
    {
      "cell_type": "markdown",
      "metadata": {
        "id": "V_OobxaSzVzY",
        "colab_type": "text"
      },
      "source": [
        "# 7. Visualizing the results"
      ]
    },
    {
      "cell_type": "code",
      "metadata": {
        "id": "egUXrT8u5_BI",
        "colab_type": "code",
        "colab": {}
      },
      "source": [
        "output = pd.concat(results,sort=False,axis=1).tail(1).T"
      ],
      "execution_count": 0,
      "outputs": []
    },
    {
      "cell_type": "code",
      "metadata": {
        "id": "FCwWqsvL7Nrd",
        "colab_type": "code",
        "outputId": "d5bfbdb4-e8b4-4059-cea1-4fe507fb616b",
        "colab": {
          "base_uri": "https://localhost:8080/",
          "height": 295
        }
      },
      "source": [
        "output"
      ],
      "execution_count": 0,
      "outputs": [
        {
          "output_type": "execute_result",
          "data": {
            "text/html": [
              "<div>\n",
              "<style scoped>\n",
              "    .dataframe tbody tr th:only-of-type {\n",
              "        vertical-align: middle;\n",
              "    }\n",
              "\n",
              "    .dataframe tbody tr th {\n",
              "        vertical-align: top;\n",
              "    }\n",
              "\n",
              "    .dataframe thead th {\n",
              "        text-align: right;\n",
              "    }\n",
              "</style>\n",
              "<table border=\"1\" class=\"dataframe\">\n",
              "  <thead>\n",
              "    <tr style=\"text-align: right;\">\n",
              "      <th></th>\n",
              "      <th>39</th>\n",
              "    </tr>\n",
              "  </thead>\n",
              "  <tbody>\n",
              "    <tr>\n",
              "      <th>lstm_with_dropout_train_loss</th>\n",
              "      <td>104.233835</td>\n",
              "    </tr>\n",
              "    <tr>\n",
              "      <th>lstm_with_dropout_validation_loss</th>\n",
              "      <td>137.993978</td>\n",
              "    </tr>\n",
              "    <tr>\n",
              "      <th>gru_with_dropout_train_loss</th>\n",
              "      <td>93.106490</td>\n",
              "    </tr>\n",
              "    <tr>\n",
              "      <th>gru_with_dropout_validation_loss</th>\n",
              "      <td>138.752922</td>\n",
              "    </tr>\n",
              "    <tr>\n",
              "      <th>lstm_no_dropout_train_loss</th>\n",
              "      <td>84.980085</td>\n",
              "    </tr>\n",
              "    <tr>\n",
              "      <th>lstm_no_dropout_validation_loss</th>\n",
              "      <td>142.014916</td>\n",
              "    </tr>\n",
              "    <tr>\n",
              "      <th>gru_no_dropout_train_loss</th>\n",
              "      <td>70.897678</td>\n",
              "    </tr>\n",
              "    <tr>\n",
              "      <th>gru_no_dropout_validation_loss</th>\n",
              "      <td>148.859692</td>\n",
              "    </tr>\n",
              "  </tbody>\n",
              "</table>\n",
              "</div>"
            ],
            "text/plain": [
              "                                           39\n",
              "lstm_with_dropout_train_loss       104.233835\n",
              "lstm_with_dropout_validation_loss  137.993978\n",
              "gru_with_dropout_train_loss         93.106490\n",
              "gru_with_dropout_validation_loss   138.752922\n",
              "lstm_no_dropout_train_loss          84.980085\n",
              "lstm_no_dropout_validation_loss    142.014916\n",
              "gru_no_dropout_train_loss           70.897678\n",
              "gru_no_dropout_validation_loss     148.859692"
            ]
          },
          "metadata": {
            "tags": []
          },
          "execution_count": 65
        }
      ]
    },
    {
      "cell_type": "code",
      "metadata": {
        "id": "7dfCUw4xCl5H",
        "colab_type": "code",
        "outputId": "000f8a3a-9c19-4fc0-c397-54291ca09de8",
        "colab": {
          "base_uri": "https://localhost:8080/",
          "height": 1000
        }
      },
      "source": [
        "results_df = pd.concat(results,axis = 1)\n",
        "for exp in EXPERIMENTS:\n",
        "  suffixes =  ['train_loss','validation_loss']\n",
        "  cols = [f\"{exp}_{suffix}\" for suffix in suffixes]\n",
        "  temp_df = results_df[cols]\n",
        "  temp_df.columns =  suffixes \n",
        "  plt.figure()\n",
        "  temp_df.astype(float).plot(title= F\"Train & Validation accuracys for {exp}\")\n",
        "  if SAVE_FIGS:\n",
        "    file_name = F\"{exp}.png\"\n",
        "    plt.savefig(graphs_dir / file_name)"
      ],
      "execution_count": 0,
      "outputs": [
        {
          "output_type": "display_data",
          "data": {
            "text/plain": [
              "<Figure size 432x288 with 0 Axes>"
            ]
          },
          "metadata": {
            "tags": []
          }
        },
        {
          "output_type": "display_data",
          "data": {
            "image/png": "[encoded data removed]",
            "text/plain": [
              "<Figure size 432x288 with 1 Axes>"
            ]
          },
          "metadata": {
            "tags": []
          }
        },
        {
          "output_type": "display_data",
          "data": {
            "text/plain": [
              "<Figure size 432x288 with 0 Axes>"
            ]
          },
          "metadata": {
            "tags": []
          }
        },
        {
          "output_type": "display_data",
          "data": {
            "image/png": "[encoded data removed]",
            "text/plain": [
              "<Figure size 432x288 with 1 Axes>"
            ]
          },
          "metadata": {
            "tags": []
          }
        },
        {
          "output_type": "display_data",
          "data": {
            "text/plain": [
              "<Figure size 432x288 with 0 Axes>"
            ]
          },
          "metadata": {
            "tags": []
          }
        },
        {
          "output_type": "display_data",
          "data": {
            "image/png": "[encoded data removed]",
            "text/plain": [
              "<Figure size 432x288 with 1 Axes>"
            ]
          },
          "metadata": {
            "tags": []
          }
        },
        {
          "output_type": "display_data",
          "data": {
            "text/plain": [
              "<Figure size 432x288 with 0 Axes>"
            ]
          },
          "metadata": {
            "tags": []
          }
        },
        {
          "output_type": "display_data",
          "data": {
            "image/png": "[encoded data removed]",
            "text/plain": [
              "<Figure size 432x288 with 1 Axes>"
            ]
          },
          "metadata": {
            "tags": []
          }
        }
      ]
    },
    {
      "cell_type": "code",
      "metadata": {
        "id": "wVPrUb-3OEbQ",
        "colab_type": "code",
        "colab": {}
      },
      "source": [
        ""
      ],
      "execution_count": 0,
      "outputs": []
    }
  ]
}